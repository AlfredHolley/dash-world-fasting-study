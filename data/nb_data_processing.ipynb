{
 "cells": [
  {
   "cell_type": "markdown",
   "metadata": {},
   "source": [
    "Data have been downloaded here : <a href=\"https://journals.plos.org/plosone/article?id=10.1371/journal.pone.0209353\">Plos One - World largest Study</a><br>\n",
    "From data available only tables :\n",
    "<ul>\n",
    "    <li>S8 (baseline : metadata)</li>\n",
    "    <li>S10 (blood cells parameters)</li>\n",
    "    <li>S11 (blood parameters)</li>\n",
    "    <li>S12 (weight, blood pressure, well being, ketones)</li>\n",
    "    <li>S15 (lipid and glycemia parameters)</li>\n",
    "</ul>\n",
    "Were downloaded, a little pre-processing was done directly in Excel :\n",
    "<ul>\n",
    "    <li>keeping only the id and parameters, except for the metadata</li>\n",
    "    <li>removing header and footer lines which were notes, from each file</li>\n",
    "    <li>renaming the columns \"lenght of fast (days)\" by \"length_of_fast\"</li>\n",
    "</ul>\n",
    "\n"
   ]
  },
  {
   "cell_type": "code",
   "execution_count": 2,
   "metadata": {},
   "outputs": [],
   "source": [
    "import pandas as pd\n",
    "import numpy as np\n",
    "import plotly.express as px\n",
    "import plotly.graph_objects as go\n",
    "\n",
    "# Load the data\n",
    "blood_cell           = pd.read_excel('blood_cell.xlsx')\n",
    "blood_param          = pd.read_excel('blood_param.xlsx')\n",
    "lipid_glucose        = pd.read_excel('lipid_glucose.xlsx')\n",
    "metadata             = pd.read_excel('metadata.xlsx')\n",
    "weight_sbp_wb_ketone = pd.read_excel('weight_sbp_wb_ketones.xlsx')\n",
    "\n",
    "# Merge the dataframes on 'id' column\n",
    "df_merge = (metadata\n",
    "            .merge(weight_sbp_wb_ketone, on='id')\n",
    "            .merge(lipid_glucose, on='id')\n",
    "            .merge(blood_cell, on='id')\n",
    "            .merge(blood_param, on='id'))\n"
   ]
  },
  {
   "cell_type": "markdown",
   "metadata": {},
   "source": [
    "##### Cleaning : \n",
    "<ul>\n",
    "    <li>transform the dataframe to a long format adding a column 'timepoint'</li>\n",
    "    <li>cast columns to the right format replacing \"<\" by \"\" or \",\" by \".\"</li>\n",
    "    <li>replace strong outliers by missing values</li>\n",
    "</ul>"
   ]
  },
  {
   "cell_type": "code",
   "execution_count": 3,
   "metadata": {},
   "outputs": [],
   "source": [
    "# delete the extra spaces in the column names\n",
    "df_merge.columns = df_merge.columns.str.replace('  ', ' ')\n",
    "\n",
    "# Get the columns ending with \"pre\" or \"post\"\n",
    "columns_to_melt = df_merge.filter(regex='pre$|post$').columns\n",
    "# Get metadata columns\n",
    "id_vars_col = metadata.columns.tolist()\n",
    "\n",
    "# Melt the dataframe\n",
    "df_long = pd.melt(df_merge, \n",
    "                  id_vars=id_vars_col, \n",
    "                  value_vars=columns_to_melt, \n",
    "                  var_name='parameter')\n",
    "\n",
    "## Extract the timepoint based on the suffix of the parameter column\n",
    "df_long['timepoint'] = (df_long['parameter'].str\n",
    "                        .endswith('post').astype(int))\n",
    "\n",
    "## Extract the value name based on what comes before \"pre\" or \"post\"\n",
    "df_long['parameter'] = (df_long['parameter'].str\n",
    "                        .replace(r'\\s*(pre|post)$', '', regex=True))\n",
    "\n",
    "# Rename the value column in order to have like a categorical variable\n",
    "df_long.timepoint = (df_long[\"timepoint\"].astype(str)\n",
    "                     .replace({\"0\":\"pre\",\"1\":\"post\"}))\n",
    "\n",
    "# Replace the \"<\" by \"\" in the value column to cast the columns as numeric\n",
    "df_long.loc[:,\"value\"] = (df_long[\"value\"].astype(str)\n",
    "                          .replace({\"<\": \"\", \",\":\".\"}, regex=True))\n",
    "df_long[\"value\"] = pd.to_numeric(df_long[\"value\"], errors=\"coerce\")\n",
    "\n",
    "# replace strong outliers by np.nan, defined as values that are >= 5 std \n",
    "# from the mean of each group (parameter, timepoint)\n",
    "df_long['value'] = (df_long\n",
    "                    .groupby(['parameter', 'timepoint'])['value']\n",
    "                    .transform(\n",
    "    lambda x : x.mask(np.abs(((x - x.mean()) / x.std())).ge(5), np.nan)\n",
    "    ))\n"
   ]
  },
  {
   "cell_type": "markdown",
   "metadata": {},
   "source": [
    "##### Addition of informations in order to prepare the analysis"
   ]
  },
  {
   "cell_type": "code",
   "execution_count": 4,
   "metadata": {},
   "outputs": [],
   "source": [
    "# addition of a numeric column indicating exactly the timepoint.\n",
    "df_long[\"timeline\"] = np.where(df_long[\"timepoint\"] == \"pre\", 0, df_long[\"fasting duration (days)\"])\n",
    "\n",
    "df_long.sort_values([\"parameter\", \"id\", \"timeline\"], inplace=True)\n",
    "df_long[\"value_change\"] = (df_long\n",
    "                           .groupby([\"id\", \"parameter\"])[\"value\"]\n",
    "                           .transform(\"diff\"))\n",
    "# we need to have the change in all rows of ('id', 'parameter') groups for the following steps\n",
    "# using .bfill() or .ffill() introduce errors in the data, we prefer to use \"first\" in a transform function.\n",
    "df_long[\"value_change\"] = df_long.groupby([\"id\", \"parameter\"])[\"value_change\"].transform(\"first\")\n",
    "\n",
    "# it still some outliers for the change, after having a look on it, \n",
    "# we decided to remove the values that are >= 8 std from the mean of each group (parameter, timepoint)\n",
    "outlier_change_mask = (\n",
    "    df_long\n",
    "    .groupby(['parameter', 'timepoint'])['value_change']\n",
    "    .transform(lambda x: np.abs((x - x.mean()) / x.std()).ge(7))\n",
    "    )\n",
    "df_long.loc[outlier_change_mask, 'value_change'] = np.nan\n",
    "df_long.loc[outlier_change_mask, 'value'] = np.nan\n",
    "\n"
   ]
  },
  {
   "cell_type": "code",
   "execution_count": 5,
   "metadata": {},
   "outputs": [],
   "source": [
    "df_wide = df_long.pivot_table(index=['id', 'timepoint', 'sex', 'fasting duration (days)', 'age (years)'], columns=\"parameter\", values=[\"value\", \"value_change\"], ).reset_index()\n",
    "df_wide.columns = [\" \".join(col) for col in df_wide.columns.values]\n",
    "df_wide.columns = [col[6:] if col.startswith(\"value \") else col for col in df_wide.columns.values]\n",
    "df_wide.columns = [col[13:] + \" change\" if col.startswith(\"value_change\") else col for col in df_wide.columns.values]\n",
    "df_wide.columns = [col.strip() for col in df_wide.columns.values]\n",
    "df_wide[\"timepoint\"] = df_wide[\"timepoint\"].replace({\"pre\":0, \"post\":1})\n",
    "\n",
    "# it will be usefill for having a jittered x axis on timepoint.\n",
    "df_wide['jittered_x'] = (\n",
    "    df_wide['timepoint']\n",
    "    .apply(lambda x : x + round(np.random.uniform(-0.1, 0.1),2))\n",
    ")\n",
    "df_wide.sort_values(by=['timepoint','id'], inplace=True)\n"
   ]
  },
  {
   "cell_type": "markdown",
   "metadata": {},
   "source": [
    "##### Export the cleaned dataframe to an Excel file"
   ]
  },
  {
   "cell_type": "code",
   "execution_count": 6,
   "metadata": {},
   "outputs": [],
   "source": [
    "df_long.to_parquet('merged_data_long.parquet', index=False)\n",
    "df_wide.to_parquet('merged_data_wide.parquet', index=False)"
   ]
  },
  {
   "cell_type": "markdown",
   "metadata": {},
   "source": [
    "#### draw the plot of correlation exploration "
   ]
  },
  {
   "cell_type": "code",
   "execution_count": 23,
   "metadata": {},
   "outputs": [],
   "source": [
    "correlation_matrix = pd.read_excel(\"correlation_matrix.xlsx\", index_col=0)\n"
   ]
  },
  {
   "cell_type": "code",
   "execution_count": 25,
   "metadata": {},
   "outputs": [
    {
     "data": {
      "application/vnd.plotly.v1+json": {
       "config": {
        "plotlyServerURL": "https://plot.ly"
       },
       "data": [
        {
         "colorbar": {
          "orientation": "v",
          "thickness": 15,
          "tickfont": {
           "size": 7
          },
          "title": {
           "text": "Correlation"
          }
         },
         "colorscale": [
          [
           0,
           "rgb(103,0,31)"
          ],
          [
           0.1,
           "rgb(178,24,43)"
          ],
          [
           0.2,
           "rgb(214,96,77)"
          ],
          [
           0.3,
           "rgb(244,165,130)"
          ],
          [
           0.4,
           "rgb(253,219,199)"
          ],
          [
           0.5,
           "rgb(247,247,247)"
          ],
          [
           0.6,
           "rgb(209,229,240)"
          ],
          [
           0.7,
           "rgb(146,197,222)"
          ],
          [
           0.8,
           "rgb(67,147,195)"
          ],
          [
           0.9,
           "rgb(33,102,172)"
          ],
          [
           1,
           "rgb(5,48,97)"
          ]
         ],
         "hoverongaps": false,
         "text": [
          [
           "TG (mmol/l) change"
          ],
          [
           "GGT (µkat/l) change"
          ],
          [
           "SBP (mmHg) change"
          ],
          [
           "weight (kg) change"
          ],
          [
           "EWB (0-10) change"
          ],
          [
           "PWB (0-10) change"
          ],
          [
           "DBP (mmHg) change"
          ],
          [
           "BMI (kg/m²) change"
          ],
          [
           "HDL-C (mmol/l) change"
          ],
          [
           "Ca (mmol/l) change"
          ],
          [
           "glucose (mmol/l) change"
          ],
          [
           "Urea (mmol/l) change"
          ],
          [
           "Quick (%) change"
          ],
          [
           "K (mmol/l) change"
          ],
          [
           "ESR 1h change"
          ],
          [
           "AP (µkat/l) change"
          ],
          [
           "Leucocytes (103/µl) change"
          ],
          [
           "waist (cm) change"
          ],
          [
           "Mg (mmol/l) change"
          ],
          [
           "ESR 2h change"
          ],
          [
           "HbA1c (mmol/mol) change"
          ],
          [
           "Na (mmol/l) change"
          ],
          [
           "puls (beats/min) change"
          ],
          [
           "CRP (mg/l) change"
          ],
          [
           "MCHC (g/dl) change"
          ],
          [
           "TC (mmol/l) change"
          ],
          [
           "Haemoglobin (mmol/l) change"
          ],
          [
           "Haematocrit (%) change"
          ],
          [
           "LDL-C (mmol/l) change"
          ],
          [
           "MCV (fl) change"
          ],
          [
           "Erythrocytes (106/µl) change"
          ],
          [
           "MCH (pg) change"
          ],
          [
           "Thrombocytes (103/µl) change"
          ],
          [
           "PTT (sec) change"
          ],
          [
           "INR change"
          ],
          [
           "GOT (µkat/l) change"
          ],
          [
           "GPT (µkat/l) change"
          ],
          [
           "Acetoacetic acid (mg/dL) change"
          ],
          [
           "LDL/HDL ratio change"
          ],
          [
           "age (years)"
          ],
          [
           "fasting duration (days)"
          ],
          [
           "baseline of the parameter"
          ],
          [
           "Creatinine (µmol/l) change"
          ],
          [
           "Uric acid (µmol/l) change"
          ]
         ],
         "textfont": {
          "size": 8
         },
         "texttemplate": "%{text}",
         "type": "heatmap",
         "x": [
          "baseline of the parameter"
         ],
         "y": [
          "TG (mmol/l) change",
          "GGT (µkat/l) change",
          "SBP (mmHg) change",
          "weight (kg) change",
          "EWB (0-10) change",
          "PWB (0-10) change",
          "DBP (mmHg) change",
          "BMI (kg/m²) change",
          "HDL-C (mmol/l) change",
          "Ca (mmol/l) change",
          "glucose (mmol/l) change",
          "Urea (mmol/l) change",
          "Quick (%) change",
          "K (mmol/l) change",
          "ESR 1h change",
          "AP (µkat/l) change",
          "Leucocytes (103/µl) change",
          "waist (cm) change",
          "Mg (mmol/l) change",
          "ESR 2h change",
          "HbA1c (mmol/mol) change",
          "Na (mmol/l) change",
          "puls (beats/min) change",
          "CRP (mg/l) change",
          "MCHC (g/dl) change",
          "TC (mmol/l) change",
          "Haemoglobin (mmol/l) change",
          "Haematocrit (%) change",
          "LDL-C (mmol/l) change",
          "MCV (fl) change",
          "Erythrocytes (106/µl) change",
          "MCH (pg) change",
          "Thrombocytes (103/µl) change",
          "PTT (sec) change",
          "INR change",
          "GOT (µkat/l) change",
          "GPT (µkat/l) change",
          "Acetoacetic acid (mg/dL) change",
          "LDL/HDL ratio change",
          "age (years)",
          "fasting duration (days)",
          "baseline of the parameter",
          "Creatinine (µmol/l) change",
          "Uric acid (µmol/l) change"
         ],
         "z": [
          [
           -0.8991413404613746
          ],
          [
           -0.8515919761969845
          ],
          [
           -0.6558393097409405
          ],
          [
           -0.6525243285992586
          ],
          [
           -0.6498552500383081
          ],
          [
           -0.6213175249306229
          ],
          [
           -0.5952905061690204
          ],
          [
           -0.5733215536568387
          ],
          [
           -0.57083442689596
          ],
          [
           -0.5278778220222644
          ],
          [
           -0.5041531234010463
          ],
          [
           -0.4853838881793094
          ],
          [
           -0.4810645415272526
          ],
          [
           -0.4709228715750567
          ],
          [
           -0.4569667637006651
          ],
          [
           -0.4367197786930928
          ],
          [
           -0.4360541648249073
          ],
          [
           -0.4205220162706504
          ],
          [
           -0.4145689886180869
          ],
          [
           -0.4130390807728215
          ],
          [
           -0.4064701066488774
          ],
          [
           -0.4033050373125016
          ],
          [
           -0.3873264619774134
          ],
          [
           -0.364329816035065
          ],
          [
           -0.3295898762878696
          ],
          [
           -0.3256605992658447
          ],
          [
           -0.2985249529862553
          ],
          [
           -0.2840026766471113
          ],
          [
           -0.2614921946477595
          ],
          [
           -0.2576834764839997
          ],
          [
           -0.2527938448905704
          ],
          [
           -0.2494749645808349
          ],
          [
           -0.2353626854766831
          ],
          [
           -0.2204459802400731
          ],
          [
           -0.1714119396077234
          ],
          [
           -0.09676970423723355
          ],
          [
           -0.0508062985944454
          ],
          [
           -0.03479053445149029
          ],
          [
           -0.01643107533584176
          ],
          [
           0
          ],
          [
           0
          ],
          [
           0
          ],
          [
           0.05043655630872507
          ],
          [
           0.2296334923455308
          ]
         ]
        }
       ],
       "layout": {
        "height": 700,
        "margin": {
         "b": 0,
         "l": 20,
         "r": 20,
         "t": 50
        },
        "template": {
         "data": {
          "bar": [
           {
            "error_x": {
             "color": "#2a3f5f"
            },
            "error_y": {
             "color": "#2a3f5f"
            },
            "marker": {
             "line": {
              "color": "#E5ECF6",
              "width": 0.5
             },
             "pattern": {
              "fillmode": "overlay",
              "size": 10,
              "solidity": 0.2
             }
            },
            "type": "bar"
           }
          ],
          "barpolar": [
           {
            "marker": {
             "line": {
              "color": "#E5ECF6",
              "width": 0.5
             },
             "pattern": {
              "fillmode": "overlay",
              "size": 10,
              "solidity": 0.2
             }
            },
            "type": "barpolar"
           }
          ],
          "carpet": [
           {
            "aaxis": {
             "endlinecolor": "#2a3f5f",
             "gridcolor": "white",
             "linecolor": "white",
             "minorgridcolor": "white",
             "startlinecolor": "#2a3f5f"
            },
            "baxis": {
             "endlinecolor": "#2a3f5f",
             "gridcolor": "white",
             "linecolor": "white",
             "minorgridcolor": "white",
             "startlinecolor": "#2a3f5f"
            },
            "type": "carpet"
           }
          ],
          "choropleth": [
           {
            "colorbar": {
             "outlinewidth": 0,
             "ticks": ""
            },
            "type": "choropleth"
           }
          ],
          "contour": [
           {
            "colorbar": {
             "outlinewidth": 0,
             "ticks": ""
            },
            "colorscale": [
             [
              0,
              "#0d0887"
             ],
             [
              0.1111111111111111,
              "#46039f"
             ],
             [
              0.2222222222222222,
              "#7201a8"
             ],
             [
              0.3333333333333333,
              "#9c179e"
             ],
             [
              0.4444444444444444,
              "#bd3786"
             ],
             [
              0.5555555555555556,
              "#d8576b"
             ],
             [
              0.6666666666666666,
              "#ed7953"
             ],
             [
              0.7777777777777778,
              "#fb9f3a"
             ],
             [
              0.8888888888888888,
              "#fdca26"
             ],
             [
              1,
              "#f0f921"
             ]
            ],
            "type": "contour"
           }
          ],
          "contourcarpet": [
           {
            "colorbar": {
             "outlinewidth": 0,
             "ticks": ""
            },
            "type": "contourcarpet"
           }
          ],
          "heatmap": [
           {
            "colorbar": {
             "outlinewidth": 0,
             "ticks": ""
            },
            "colorscale": [
             [
              0,
              "#0d0887"
             ],
             [
              0.1111111111111111,
              "#46039f"
             ],
             [
              0.2222222222222222,
              "#7201a8"
             ],
             [
              0.3333333333333333,
              "#9c179e"
             ],
             [
              0.4444444444444444,
              "#bd3786"
             ],
             [
              0.5555555555555556,
              "#d8576b"
             ],
             [
              0.6666666666666666,
              "#ed7953"
             ],
             [
              0.7777777777777778,
              "#fb9f3a"
             ],
             [
              0.8888888888888888,
              "#fdca26"
             ],
             [
              1,
              "#f0f921"
             ]
            ],
            "type": "heatmap"
           }
          ],
          "heatmapgl": [
           {
            "colorbar": {
             "outlinewidth": 0,
             "ticks": ""
            },
            "colorscale": [
             [
              0,
              "#0d0887"
             ],
             [
              0.1111111111111111,
              "#46039f"
             ],
             [
              0.2222222222222222,
              "#7201a8"
             ],
             [
              0.3333333333333333,
              "#9c179e"
             ],
             [
              0.4444444444444444,
              "#bd3786"
             ],
             [
              0.5555555555555556,
              "#d8576b"
             ],
             [
              0.6666666666666666,
              "#ed7953"
             ],
             [
              0.7777777777777778,
              "#fb9f3a"
             ],
             [
              0.8888888888888888,
              "#fdca26"
             ],
             [
              1,
              "#f0f921"
             ]
            ],
            "type": "heatmapgl"
           }
          ],
          "histogram": [
           {
            "marker": {
             "pattern": {
              "fillmode": "overlay",
              "size": 10,
              "solidity": 0.2
             }
            },
            "type": "histogram"
           }
          ],
          "histogram2d": [
           {
            "colorbar": {
             "outlinewidth": 0,
             "ticks": ""
            },
            "colorscale": [
             [
              0,
              "#0d0887"
             ],
             [
              0.1111111111111111,
              "#46039f"
             ],
             [
              0.2222222222222222,
              "#7201a8"
             ],
             [
              0.3333333333333333,
              "#9c179e"
             ],
             [
              0.4444444444444444,
              "#bd3786"
             ],
             [
              0.5555555555555556,
              "#d8576b"
             ],
             [
              0.6666666666666666,
              "#ed7953"
             ],
             [
              0.7777777777777778,
              "#fb9f3a"
             ],
             [
              0.8888888888888888,
              "#fdca26"
             ],
             [
              1,
              "#f0f921"
             ]
            ],
            "type": "histogram2d"
           }
          ],
          "histogram2dcontour": [
           {
            "colorbar": {
             "outlinewidth": 0,
             "ticks": ""
            },
            "colorscale": [
             [
              0,
              "#0d0887"
             ],
             [
              0.1111111111111111,
              "#46039f"
             ],
             [
              0.2222222222222222,
              "#7201a8"
             ],
             [
              0.3333333333333333,
              "#9c179e"
             ],
             [
              0.4444444444444444,
              "#bd3786"
             ],
             [
              0.5555555555555556,
              "#d8576b"
             ],
             [
              0.6666666666666666,
              "#ed7953"
             ],
             [
              0.7777777777777778,
              "#fb9f3a"
             ],
             [
              0.8888888888888888,
              "#fdca26"
             ],
             [
              1,
              "#f0f921"
             ]
            ],
            "type": "histogram2dcontour"
           }
          ],
          "mesh3d": [
           {
            "colorbar": {
             "outlinewidth": 0,
             "ticks": ""
            },
            "type": "mesh3d"
           }
          ],
          "parcoords": [
           {
            "line": {
             "colorbar": {
              "outlinewidth": 0,
              "ticks": ""
             }
            },
            "type": "parcoords"
           }
          ],
          "pie": [
           {
            "automargin": true,
            "type": "pie"
           }
          ],
          "scatter": [
           {
            "fillpattern": {
             "fillmode": "overlay",
             "size": 10,
             "solidity": 0.2
            },
            "type": "scatter"
           }
          ],
          "scatter3d": [
           {
            "line": {
             "colorbar": {
              "outlinewidth": 0,
              "ticks": ""
             }
            },
            "marker": {
             "colorbar": {
              "outlinewidth": 0,
              "ticks": ""
             }
            },
            "type": "scatter3d"
           }
          ],
          "scattercarpet": [
           {
            "marker": {
             "colorbar": {
              "outlinewidth": 0,
              "ticks": ""
             }
            },
            "type": "scattercarpet"
           }
          ],
          "scattergeo": [
           {
            "marker": {
             "colorbar": {
              "outlinewidth": 0,
              "ticks": ""
             }
            },
            "type": "scattergeo"
           }
          ],
          "scattergl": [
           {
            "marker": {
             "colorbar": {
              "outlinewidth": 0,
              "ticks": ""
             }
            },
            "type": "scattergl"
           }
          ],
          "scattermapbox": [
           {
            "marker": {
             "colorbar": {
              "outlinewidth": 0,
              "ticks": ""
             }
            },
            "type": "scattermapbox"
           }
          ],
          "scatterpolar": [
           {
            "marker": {
             "colorbar": {
              "outlinewidth": 0,
              "ticks": ""
             }
            },
            "type": "scatterpolar"
           }
          ],
          "scatterpolargl": [
           {
            "marker": {
             "colorbar": {
              "outlinewidth": 0,
              "ticks": ""
             }
            },
            "type": "scatterpolargl"
           }
          ],
          "scatterternary": [
           {
            "marker": {
             "colorbar": {
              "outlinewidth": 0,
              "ticks": ""
             }
            },
            "type": "scatterternary"
           }
          ],
          "surface": [
           {
            "colorbar": {
             "outlinewidth": 0,
             "ticks": ""
            },
            "colorscale": [
             [
              0,
              "#0d0887"
             ],
             [
              0.1111111111111111,
              "#46039f"
             ],
             [
              0.2222222222222222,
              "#7201a8"
             ],
             [
              0.3333333333333333,
              "#9c179e"
             ],
             [
              0.4444444444444444,
              "#bd3786"
             ],
             [
              0.5555555555555556,
              "#d8576b"
             ],
             [
              0.6666666666666666,
              "#ed7953"
             ],
             [
              0.7777777777777778,
              "#fb9f3a"
             ],
             [
              0.8888888888888888,
              "#fdca26"
             ],
             [
              1,
              "#f0f921"
             ]
            ],
            "type": "surface"
           }
          ],
          "table": [
           {
            "cells": {
             "fill": {
              "color": "#EBF0F8"
             },
             "line": {
              "color": "white"
             }
            },
            "header": {
             "fill": {
              "color": "#C8D4E3"
             },
             "line": {
              "color": "white"
             }
            },
            "type": "table"
           }
          ]
         },
         "layout": {
          "annotationdefaults": {
           "arrowcolor": "#2a3f5f",
           "arrowhead": 0,
           "arrowwidth": 1
          },
          "autotypenumbers": "strict",
          "coloraxis": {
           "colorbar": {
            "outlinewidth": 0,
            "ticks": ""
           }
          },
          "colorscale": {
           "diverging": [
            [
             0,
             "#8e0152"
            ],
            [
             0.1,
             "#c51b7d"
            ],
            [
             0.2,
             "#de77ae"
            ],
            [
             0.3,
             "#f1b6da"
            ],
            [
             0.4,
             "#fde0ef"
            ],
            [
             0.5,
             "#f7f7f7"
            ],
            [
             0.6,
             "#e6f5d0"
            ],
            [
             0.7,
             "#b8e186"
            ],
            [
             0.8,
             "#7fbc41"
            ],
            [
             0.9,
             "#4d9221"
            ],
            [
             1,
             "#276419"
            ]
           ],
           "sequential": [
            [
             0,
             "#0d0887"
            ],
            [
             0.1111111111111111,
             "#46039f"
            ],
            [
             0.2222222222222222,
             "#7201a8"
            ],
            [
             0.3333333333333333,
             "#9c179e"
            ],
            [
             0.4444444444444444,
             "#bd3786"
            ],
            [
             0.5555555555555556,
             "#d8576b"
            ],
            [
             0.6666666666666666,
             "#ed7953"
            ],
            [
             0.7777777777777778,
             "#fb9f3a"
            ],
            [
             0.8888888888888888,
             "#fdca26"
            ],
            [
             1,
             "#f0f921"
            ]
           ],
           "sequentialminus": [
            [
             0,
             "#0d0887"
            ],
            [
             0.1111111111111111,
             "#46039f"
            ],
            [
             0.2222222222222222,
             "#7201a8"
            ],
            [
             0.3333333333333333,
             "#9c179e"
            ],
            [
             0.4444444444444444,
             "#bd3786"
            ],
            [
             0.5555555555555556,
             "#d8576b"
            ],
            [
             0.6666666666666666,
             "#ed7953"
            ],
            [
             0.7777777777777778,
             "#fb9f3a"
            ],
            [
             0.8888888888888888,
             "#fdca26"
            ],
            [
             1,
             "#f0f921"
            ]
           ]
          },
          "colorway": [
           "#636efa",
           "#EF553B",
           "#00cc96",
           "#ab63fa",
           "#FFA15A",
           "#19d3f3",
           "#FF6692",
           "#B6E880",
           "#FF97FF",
           "#FECB52"
          ],
          "font": {
           "color": "#2a3f5f"
          },
          "geo": {
           "bgcolor": "white",
           "lakecolor": "white",
           "landcolor": "#E5ECF6",
           "showlakes": true,
           "showland": true,
           "subunitcolor": "white"
          },
          "hoverlabel": {
           "align": "left"
          },
          "hovermode": "closest",
          "mapbox": {
           "style": "light"
          },
          "paper_bgcolor": "white",
          "plot_bgcolor": "#E5ECF6",
          "polar": {
           "angularaxis": {
            "gridcolor": "white",
            "linecolor": "white",
            "ticks": ""
           },
           "bgcolor": "#E5ECF6",
           "radialaxis": {
            "gridcolor": "white",
            "linecolor": "white",
            "ticks": ""
           }
          },
          "scene": {
           "xaxis": {
            "backgroundcolor": "#E5ECF6",
            "gridcolor": "white",
            "gridwidth": 2,
            "linecolor": "white",
            "showbackground": true,
            "ticks": "",
            "zerolinecolor": "white"
           },
           "yaxis": {
            "backgroundcolor": "#E5ECF6",
            "gridcolor": "white",
            "gridwidth": 2,
            "linecolor": "white",
            "showbackground": true,
            "ticks": "",
            "zerolinecolor": "white"
           },
           "zaxis": {
            "backgroundcolor": "#E5ECF6",
            "gridcolor": "white",
            "gridwidth": 2,
            "linecolor": "white",
            "showbackground": true,
            "ticks": "",
            "zerolinecolor": "white"
           }
          },
          "shapedefaults": {
           "line": {
            "color": "#2a3f5f"
           }
          },
          "ternary": {
           "aaxis": {
            "gridcolor": "white",
            "linecolor": "white",
            "ticks": ""
           },
           "baxis": {
            "gridcolor": "white",
            "linecolor": "white",
            "ticks": ""
           },
           "bgcolor": "#E5ECF6",
           "caxis": {
            "gridcolor": "white",
            "linecolor": "white",
            "ticks": ""
           }
          },
          "title": {
           "x": 0.05
          },
          "xaxis": {
           "automargin": true,
           "gridcolor": "white",
           "linecolor": "white",
           "ticks": "",
           "title": {
            "standoff": 15
           },
           "zerolinecolor": "white",
           "zerolinewidth": 2
          },
          "yaxis": {
           "automargin": true,
           "gridcolor": "white",
           "linecolor": "white",
           "ticks": "",
           "title": {
            "standoff": 15
           },
           "zerolinecolor": "white",
           "zerolinewidth": 2
          }
         }
        },
        "width": 300,
        "xaxis": {
         "showticklabels": false,
         "title": {
          "text": "Correlation : baseline of the parameter"
         }
        },
        "yaxis": {
         "showticklabels": false,
         "title": {
          "text": ""
         }
        }
       }
      }
     },
     "metadata": {},
     "output_type": "display_data"
    }
   ],
   "source": [
    "\n",
    "param = list_of_param[0]\n",
    "filtered_matrix = correlation_matrix.loc[:,param].reset_index().set_index(\"index\").fillna(0)\n",
    "list_of_param =  filtered_matrix.index.to_list()\n",
    "filtered_matrix.sort_values(by = param,inplace=True)\n",
    "fig = go.Figure(data=go.Heatmap(\n",
    "            z=filtered_matrix.values,\n",
    "            y=filtered_matrix.index,\n",
    "            x=filtered_matrix.columns,\n",
    "            colorscale='RdBu',  # Change the colorscale to 'viridis'\n",
    "            colorbar=dict(title='Correlation', orientation=\"v\", thickness=15,tickfont=dict(size=7)),\n",
    "            hoverongaps=False,\n",
    "            text=[[name] for name in list(filtered_matrix.index)],\n",
    "            texttemplate=\"%{text}\",\n",
    "            textfont={\"size\":8}\n",
    "        ))\n",
    "fig.update_layout(\n",
    "        margin=dict(l=20, r=20, t=50, b=0),\n",
    "        yaxis=dict(title=\"\", showticklabels=False),\n",
    "        xaxis=dict(title=\"\", showticklabels=False),\n",
    "        width=300,\n",
    "        height=700\n",
    "    )\n",
    "fig.update_xaxes(title=f\"Correlation : {param}\")\n",
    "fig\n"
   ]
  },
  {
   "cell_type": "code",
   "execution_count": 14,
   "metadata": {},
   "outputs": [
    {
     "data": {
      "text/html": [
       "<div>\n",
       "<style scoped>\n",
       "    .dataframe tbody tr th:only-of-type {\n",
       "        vertical-align: middle;\n",
       "    }\n",
       "\n",
       "    .dataframe tbody tr th {\n",
       "        vertical-align: top;\n",
       "    }\n",
       "\n",
       "    .dataframe thead th {\n",
       "        text-align: right;\n",
       "    }\n",
       "</style>\n",
       "<table border=\"1\" class=\"dataframe\">\n",
       "  <thead>\n",
       "    <tr style=\"text-align: right;\">\n",
       "      <th></th>\n",
       "      <th>AP (µkat/l) change</th>\n",
       "    </tr>\n",
       "    <tr>\n",
       "      <th>index</th>\n",
       "      <th></th>\n",
       "    </tr>\n",
       "  </thead>\n",
       "  <tbody>\n",
       "    <tr>\n",
       "      <th>baseline of the parameter</th>\n",
       "      <td>-0.436720</td>\n",
       "    </tr>\n",
       "    <tr>\n",
       "      <th>fasting duration (days)</th>\n",
       "      <td>-0.180299</td>\n",
       "    </tr>\n",
       "    <tr>\n",
       "      <th>age (years)</th>\n",
       "      <td>-0.020155</td>\n",
       "    </tr>\n",
       "    <tr>\n",
       "      <th>AP (µkat/l) change</th>\n",
       "      <td>1.000000</td>\n",
       "    </tr>\n",
       "    <tr>\n",
       "      <th>Acetoacetic acid (mg/dL) change</th>\n",
       "      <td>0.002779</td>\n",
       "    </tr>\n",
       "    <tr>\n",
       "      <th>BMI (kg/m²) change</th>\n",
       "      <td>0.069001</td>\n",
       "    </tr>\n",
       "    <tr>\n",
       "      <th>CRP (mg/l) change</th>\n",
       "      <td>0.142508</td>\n",
       "    </tr>\n",
       "    <tr>\n",
       "      <th>Ca (mmol/l) change</th>\n",
       "      <td>0.112219</td>\n",
       "    </tr>\n",
       "    <tr>\n",
       "      <th>Creatinine (µmol/l) change</th>\n",
       "      <td>0.071733</td>\n",
       "    </tr>\n",
       "    <tr>\n",
       "      <th>DBP (mmHg) change</th>\n",
       "      <td>0.071983</td>\n",
       "    </tr>\n",
       "    <tr>\n",
       "      <th>ESR 1h change</th>\n",
       "      <td>0.133341</td>\n",
       "    </tr>\n",
       "    <tr>\n",
       "      <th>ESR 2h change</th>\n",
       "      <td>0.146194</td>\n",
       "    </tr>\n",
       "    <tr>\n",
       "      <th>EWB (0-10) change</th>\n",
       "      <td>-0.052390</td>\n",
       "    </tr>\n",
       "    <tr>\n",
       "      <th>Erythrocytes (106/µl) change</th>\n",
       "      <td>0.270076</td>\n",
       "    </tr>\n",
       "    <tr>\n",
       "      <th>GGT (µkat/l) change</th>\n",
       "      <td>0.205692</td>\n",
       "    </tr>\n",
       "    <tr>\n",
       "      <th>GOT (µkat/l) change</th>\n",
       "      <td>0.088994</td>\n",
       "    </tr>\n",
       "    <tr>\n",
       "      <th>GPT (µkat/l) change</th>\n",
       "      <td>0.157563</td>\n",
       "    </tr>\n",
       "    <tr>\n",
       "      <th>HDL-C (mmol/l) change</th>\n",
       "      <td>0.119153</td>\n",
       "    </tr>\n",
       "    <tr>\n",
       "      <th>Haematocrit (%) change</th>\n",
       "      <td>0.245560</td>\n",
       "    </tr>\n",
       "    <tr>\n",
       "      <th>Haemoglobin (mmol/l) change</th>\n",
       "      <td>0.273977</td>\n",
       "    </tr>\n",
       "    <tr>\n",
       "      <th>HbA1c (mmol/mol) change</th>\n",
       "      <td>0.047779</td>\n",
       "    </tr>\n",
       "    <tr>\n",
       "      <th>INR change</th>\n",
       "      <td>-0.083065</td>\n",
       "    </tr>\n",
       "    <tr>\n",
       "      <th>K (mmol/l) change</th>\n",
       "      <td>0.068418</td>\n",
       "    </tr>\n",
       "    <tr>\n",
       "      <th>LDL-C (mmol/l) change</th>\n",
       "      <td>0.226188</td>\n",
       "    </tr>\n",
       "    <tr>\n",
       "      <th>LDL/HDL ratio change</th>\n",
       "      <td>0.136373</td>\n",
       "    </tr>\n",
       "    <tr>\n",
       "      <th>Leucocytes (103/µl) change</th>\n",
       "      <td>0.162305</td>\n",
       "    </tr>\n",
       "    <tr>\n",
       "      <th>MCH (pg) change</th>\n",
       "      <td>-0.043144</td>\n",
       "    </tr>\n",
       "    <tr>\n",
       "      <th>MCHC (g/dl) change</th>\n",
       "      <td>0.035501</td>\n",
       "    </tr>\n",
       "    <tr>\n",
       "      <th>MCV (fl) change</th>\n",
       "      <td>-0.054440</td>\n",
       "    </tr>\n",
       "    <tr>\n",
       "      <th>Mg (mmol/l) change</th>\n",
       "      <td>0.169988</td>\n",
       "    </tr>\n",
       "    <tr>\n",
       "      <th>Na (mmol/l) change</th>\n",
       "      <td>-0.021091</td>\n",
       "    </tr>\n",
       "    <tr>\n",
       "      <th>PTT (sec) change</th>\n",
       "      <td>-0.001596</td>\n",
       "    </tr>\n",
       "    <tr>\n",
       "      <th>PWB (0-10) change</th>\n",
       "      <td>-0.016786</td>\n",
       "    </tr>\n",
       "    <tr>\n",
       "      <th>Quick (%) change</th>\n",
       "      <td>0.076565</td>\n",
       "    </tr>\n",
       "    <tr>\n",
       "      <th>SBP (mmHg) change</th>\n",
       "      <td>0.091254</td>\n",
       "    </tr>\n",
       "    <tr>\n",
       "      <th>TC (mmol/l) change</th>\n",
       "      <td>0.268879</td>\n",
       "    </tr>\n",
       "    <tr>\n",
       "      <th>TG (mmol/l) change</th>\n",
       "      <td>0.022633</td>\n",
       "    </tr>\n",
       "    <tr>\n",
       "      <th>Thrombocytes (103/µl) change</th>\n",
       "      <td>0.130212</td>\n",
       "    </tr>\n",
       "    <tr>\n",
       "      <th>Urea (mmol/l) change</th>\n",
       "      <td>0.073175</td>\n",
       "    </tr>\n",
       "    <tr>\n",
       "      <th>Uric acid (µmol/l) change</th>\n",
       "      <td>0.029708</td>\n",
       "    </tr>\n",
       "    <tr>\n",
       "      <th>glucose (mmol/l) change</th>\n",
       "      <td>-0.058861</td>\n",
       "    </tr>\n",
       "    <tr>\n",
       "      <th>puls (beats/min) change</th>\n",
       "      <td>0.115249</td>\n",
       "    </tr>\n",
       "    <tr>\n",
       "      <th>waist (cm) change</th>\n",
       "      <td>0.028440</td>\n",
       "    </tr>\n",
       "    <tr>\n",
       "      <th>weight (kg) change</th>\n",
       "      <td>0.046266</td>\n",
       "    </tr>\n",
       "  </tbody>\n",
       "</table>\n",
       "</div>"
      ],
      "text/plain": [
       "                                 AP (µkat/l) change\n",
       "index                                              \n",
       "baseline of the parameter                 -0.436720\n",
       "fasting duration (days)                   -0.180299\n",
       "age (years)                               -0.020155\n",
       "AP (µkat/l) change                         1.000000\n",
       "Acetoacetic acid (mg/dL) change            0.002779\n",
       "BMI (kg/m²) change                         0.069001\n",
       "CRP (mg/l) change                          0.142508\n",
       "Ca (mmol/l) change                         0.112219\n",
       "Creatinine (µmol/l) change                 0.071733\n",
       "DBP (mmHg) change                          0.071983\n",
       "ESR 1h change                              0.133341\n",
       "ESR 2h change                              0.146194\n",
       "EWB (0-10) change                         -0.052390\n",
       "Erythrocytes (106/µl) change               0.270076\n",
       "GGT (µkat/l) change                        0.205692\n",
       "GOT (µkat/l) change                        0.088994\n",
       "GPT (µkat/l) change                        0.157563\n",
       "HDL-C (mmol/l) change                      0.119153\n",
       "Haematocrit (%) change                     0.245560\n",
       "Haemoglobin (mmol/l) change                0.273977\n",
       "HbA1c (mmol/mol) change                    0.047779\n",
       "INR change                                -0.083065\n",
       "K (mmol/l) change                          0.068418\n",
       "LDL-C (mmol/l) change                      0.226188\n",
       "LDL/HDL ratio change                       0.136373\n",
       "Leucocytes (103/µl) change                 0.162305\n",
       "MCH (pg) change                           -0.043144\n",
       "MCHC (g/dl) change                         0.035501\n",
       "MCV (fl) change                           -0.054440\n",
       "Mg (mmol/l) change                         0.169988\n",
       "Na (mmol/l) change                        -0.021091\n",
       "PTT (sec) change                          -0.001596\n",
       "PWB (0-10) change                         -0.016786\n",
       "Quick (%) change                           0.076565\n",
       "SBP (mmHg) change                          0.091254\n",
       "TC (mmol/l) change                         0.268879\n",
       "TG (mmol/l) change                         0.022633\n",
       "Thrombocytes (103/µl) change               0.130212\n",
       "Urea (mmol/l) change                       0.073175\n",
       "Uric acid (µmol/l) change                  0.029708\n",
       "glucose (mmol/l) change                   -0.058861\n",
       "puls (beats/min) change                    0.115249\n",
       "waist (cm) change                          0.028440\n",
       "weight (kg) change                         0.046266"
      ]
     },
     "execution_count": 14,
     "metadata": {},
     "output_type": "execute_result"
    }
   ],
   "source": [
    "filtered_matrix"
   ]
  }
 ],
 "metadata": {
  "kernelspec": {
   "display_name": "holley",
   "language": "python",
   "name": "python3"
  },
  "language_info": {
   "codemirror_mode": {
    "name": "ipython",
    "version": 3
   },
   "file_extension": ".py",
   "mimetype": "text/x-python",
   "name": "python",
   "nbconvert_exporter": "python",
   "pygments_lexer": "ipython3",
   "version": "3.11.5"
  }
 },
 "nbformat": 4,
 "nbformat_minor": 2
}
